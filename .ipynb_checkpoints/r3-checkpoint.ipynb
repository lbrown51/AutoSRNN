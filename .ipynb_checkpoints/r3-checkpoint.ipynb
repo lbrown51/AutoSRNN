{
 "cells": [
  {
   "cell_type": "code",
   "execution_count": 31,
   "metadata": {
    "collapsed": false
   },
   "outputs": [],
   "source": [
    "import tensorflow as tf\n",
    "from tensorflow.contrib import slim as slim\n",
    "import numpy as np"
   ]
  },
  {
   "cell_type": "code",
   "execution_count": 32,
   "metadata": {
    "collapsed": true
   },
   "outputs": [],
   "source": [
    "vids = np.load('./walk_np.npy')/255"
   ]
  },
  {
   "cell_type": "code",
   "execution_count": 76,
   "metadata": {
    "collapsed": false
   },
   "outputs": [
    {
     "data": {
      "text/plain": [
       "(12412, 240, 320, 3)"
      ]
     },
     "execution_count": 76,
     "metadata": {},
     "output_type": "execute_result"
    }
   ],
   "source": [
    "vids.shape"
   ]
  },
  {
   "cell_type": "code",
   "execution_count": 78,
   "metadata": {
    "collapsed": true
   },
   "outputs": [],
   "source": [
    "tf.reset_default_graph()\n",
    "num_objects = 10\n",
    "num_blocks = 100\n",
    "full_height, full_width, channels, batch = 240, 320, 3, 1\n",
    "height, width = 127, 127"
   ]
  },
  {
   "cell_type": "code",
   "execution_count": 79,
   "metadata": {
    "collapsed": false
   },
   "outputs": [
    {
     "name": "stdout",
     "output_type": "stream",
     "text": [
      "125114.59\n",
      "58621.63\n",
      "35146.35\n",
      "40660.5\n",
      "66366.215\n",
      "40568.82\n",
      "45761.37\n",
      "160083.19\n",
      "70198.69\n",
      "71442.99\n",
      "74250.09\n",
      "51966.45\n",
      "71872.52\n",
      "98437.91\n",
      "68776.27\n",
      "83506.55\n",
      "80002.6\n",
      "102095.36\n",
      "123243.1\n",
      "63731.65\n",
      "93823.55\n",
      "67208.46\n",
      "127074.4\n",
      "25574.765\n",
      "118011.54\n",
      "69162.81\n",
      "97902.22\n",
      "93858.23\n",
      "143017.1\n",
      "64400.39\n",
      "74662.305\n",
      "113831.38\n",
      "50114.225\n",
      "63618.9\n",
      "52583.65\n",
      "43403.795\n",
      "64377.105\n",
      "49827.515\n",
      "51853.32\n",
      "90141.24\n",
      "72655.52\n",
      "60435.795\n",
      "73830.625\n",
      "87442.8\n",
      "61053.9\n",
      "93662.98\n",
      "74089.25\n",
      "93364.21\n",
      "75879.625\n",
      "94249.64\n",
      "88817.5\n",
      "58780.155\n",
      "72844.755\n",
      "60351.96\n",
      "58390.225\n",
      "66561.99\n",
      "58741.84\n",
      "37883.4\n",
      "54480.505\n",
      "80583.515\n",
      "87830.3\n",
      "77392.79\n",
      "59332.205\n",
      "53628.745\n",
      "54474.08\n",
      "82476.975\n",
      "49856.97\n",
      "90928.13\n",
      "125726.05\n",
      "69724.845\n",
      "59150.445\n",
      "80041.265\n",
      "68957.775\n",
      "85824.1\n",
      "67094.575\n",
      "60961.1\n",
      "97658.76\n",
      "85614.72\n",
      "66375.17\n",
      "31667.995\n",
      "61213.555\n",
      "52906.53\n",
      "43113.525\n",
      "79100.55\n",
      "68181.0\n",
      "134339.1\n",
      "75215.5\n",
      "58720.225\n",
      "56517.44\n",
      "59820.105\n",
      "28269.5275\n",
      "38887.2175\n",
      "43630.45\n",
      "65690.465\n",
      "79069.05\n",
      "74603.405\n",
      "57055.53\n",
      "56927.4\n",
      "54647.675\n",
      "55414.52\n",
      "61692.84\n",
      "60652.435\n",
      "65381.435\n",
      "66337.015\n",
      "90016.34\n",
      "64597.895\n",
      "55333.345\n",
      "50882.09\n",
      "79508.19\n",
      "100568.41\n",
      "39744.8325\n",
      "65330.14\n",
      "59276.325\n",
      "43224.225\n",
      "48065.91\n",
      "54472.71\n",
      "44447.905\n",
      "46884.915\n",
      "71377.765\n",
      "71634.85\n"
     ]
    }
   ],
   "source": [
    "with tf.Session() as session:\n",
    "    with tf.variable_scope(\"inputs\"):\n",
    "        state = tf.placeholder(tf.float32, [2, num_objects, num_blocks])\n",
    "        frame = tf.placeholder(tf.float32, [batch, full_height, full_width, channels])\n",
    "        correct = tf.placeholder(tf.float32, [batch, full_height, full_width, channels])\n",
    "\n",
    "    with slim.arg_scope([slim.conv2d, slim.fully_connected],\n",
    "                          activation_fn=tf.nn.relu,\n",
    "                          weights_initializer=tf.truncated_normal_initializer(0.0, 0.01),\n",
    "                          weights_regularizer=slim.l2_regularizer(0.0005)):\n",
    "        net = slim.repeat(frame, 2, slim.conv2d, 10, [3, 3], scope='conv1')\n",
    "        net = slim.max_pool2d(net, [2, 2], scope='pool1')\n",
    "        net = slim.repeat(net, 2, slim.conv2d, 20, [3, 3], scope='conv2')\n",
    "        net = slim.max_pool2d(net, [2, 2], scope='pool2')\n",
    "        net = slim.repeat(net, 3, slim.conv2d, 40, [3, 3], scope='conv3')\n",
    "        pool3 = slim.max_pool2d(net, 3, [2, 2], scope='pool3')\n",
    "        net = slim.repeat(pool3, 3, slim.conv2d, 80, [3, 3], scope='conv4')\n",
    "        pool4 = slim.max_pool2d(net, [2, 2], scope='pool4')\n",
    "        net = slim.repeat(pool4, 3, slim.conv2d, 80, [3, 3], scope='conv5')\n",
    "        net = slim.max_pool2d(net, [2, 2], scope='pool5')\n",
    "        net = slim.dropout(slim.conv2d(net, 320, [7, 7]), is_training=True, scope=\"fc1\")\n",
    "        net = slim.dropout(slim.conv2d(net, 320, [1, 1]), is_training=True, scope=\"fc2\")\n",
    "        net = slim.conv2d(net, num_objects, [1, 1], scope=\"score_fr\")\n",
    "\n",
    "    height, width = tf.shape(net).eval()[1:3]\n",
    "    with tf.variable_scope(\"r3Cell\"):\n",
    "        initializer = tf.random_uniform_initializer(-0.1, 0.1, dtype=tf.float32)\n",
    "\n",
    "        def get_variable(name, shape):\n",
    "            return tf.get_variable(name, shape, initializer=initializer, dtype=tf.float32)\n",
    "\n",
    "\n",
    "        W_z = get_variable(\"W_z\", [num_objects, height, width, num_blocks])\n",
    "        W_i = get_variable(\"W_i\", [num_objects, height, width, num_blocks])\n",
    "        W_f = get_variable(\"W_f\", [num_objects, height, width, num_blocks])\n",
    "        W_o = get_variable(\"W_o\", [num_objects, height, width, num_blocks])\n",
    "        W_nst = get_variable(\"W_nst\", [num_blocks, height, width, num_objects])\n",
    "\n",
    "        R_z = get_variable(\"R_z\", [num_objects, num_blocks, num_blocks])\n",
    "        R_i = get_variable(\"R_i\", [num_objects, num_blocks, num_blocks])\n",
    "        R_f = get_variable(\"R_f\", [num_objects, num_blocks, num_blocks])\n",
    "        R_o = get_variable(\"R_o\", [num_objects, num_blocks, num_blocks])\n",
    "\n",
    "        b_z = get_variable(\"b_z\", [num_objects, num_blocks])\n",
    "        b_i = get_variable(\"b_i\", [num_objects, num_blocks])\n",
    "        b_f = get_variable(\"b_f\", [num_objects, num_blocks])\n",
    "        b_o = get_variable(\"b_o\", [num_objects, num_blocks])\n",
    "\n",
    "        def ex(m1, m2):\n",
    "            return tf.einsum('bjki,ijkm-> im', m1, m2)\n",
    "\n",
    "        def ey(m1, m2):\n",
    "            return tf.einsum('ij,ijl->il', m1, m2)\n",
    "\n",
    "\n",
    "        c_prev, y_prev = tf.split(1, 2, state)\n",
    "        y_prev = tf.reshape(y_prev, [num_objects, num_blocks])\n",
    "        c_prev = tf.reshape(c_prev, [num_objects, num_blocks])\n",
    "        g = h = tf.tanh\n",
    "        z = g(ex(net, W_z) + ey(y_prev, R_z) + b_z)\n",
    "        i = tf.sigmoid(ex(net, W_i) + ey(y_prev, R_i) + b_i)\n",
    "        f = tf.sigmoid(ex(net, W_f) + ey(y_prev, R_f) + b_f)\n",
    "        c = tf.mul(i, z) + tf.mul(f, c_prev)\n",
    "        o = tf.sigmoid(ex(net, W_o) + ey(y_prev, R_o) + b_o)\n",
    "        y = tf.mul(h(c), o)\n",
    "        nst = tf.expand_dims(tf.einsum('ij,jkli->kli', y, W_nst), axis=0)\n",
    "\n",
    "    with slim.arg_scope([slim.conv2d, slim.fully_connected],\n",
    "                          activation_fn=tf.nn.relu,\n",
    "                          weights_initializer=tf.truncated_normal_initializer(0.0, 0.01),\n",
    "                          weights_regularizer=slim.l2_regularizer(0.0005)):\n",
    "\n",
    "        net = slim.conv2d_transpose(nst, channels, [4, 4], stride=2, scope='upscore2')\n",
    "        score_pool4 = slim.conv2d(pool4, channels, [1, 1], scope='score_pool4')\n",
    "        dim_net4 = tf.shape(net)\n",
    "        fuse4 = tf.add(net, score_pool4[:,:dim_net4[1], :dim_net4[2], :])\n",
    "\n",
    "        net = slim.conv2d_transpose(fuse4, channels, [4, 4], stride=2, scope='upscore_pool4')\n",
    "        score_pool3 = slim.conv2d(pool3, channels, [1, 1], scope='score_pool3')\n",
    "        dim_net3 = tf.shape(net)\n",
    "        fuse3 = tf.add(net, score_pool3[:, :dim_net3[1], :dim_net3[2], :])\n",
    "\n",
    "        predict = slim.conv2d_transpose(fuse3, channels, [16, 16], stride=8, scope='upscore8')\n",
    "\n",
    "\n",
    "    dim_netp = tf.shape(predict)\n",
    "    loss = tf.reduce_sum(tf.abs(correct[:, :dim_netp[1], :dim_netp[2], :] - predict))\n",
    "    optimizer = tf.train.AdamOptimizer().minimize(loss)\n",
    "    \n",
    "    saver = tf.train.Saver()\n",
    "    summary_writer = tf.summary.FileWriter('./train', session.graph)\n",
    "    session.run(tf.global_variables_initializer())\n",
    "    cstate = np.zeros([2, num_objects, num_blocks])\n",
    "    for i in range(12000):\n",
    "        cframe = vids[i:i+1]\n",
    "        nframe = vids[i+1:i+2]\n",
    "        if i % 100 ==0:\n",
    "            _, closs, cstate = session.run([optimizer, loss, state],\n",
    "                                         feed_dict={state:cstate, \n",
    "                                                    frame:cframe, correct:nframe})\n",
    "            print(closs/100)\n",
    "            closs = 0\n",
    "        \n",
    "        else:\n",
    "            _, t_closs, cstate = session.run([optimizer, loss, state],\n",
    "                                         feed_dict={state:cstate, \n",
    "                                                    frame:cframe, correct:nframe})\n",
    "            closs += t_closs\n",
    "    saver.save(session, './train.ckpt')\n",
    "    "
   ]
  },
  {
   "cell_type": "code",
   "execution_count": 80,
   "metadata": {
    "collapsed": false
   },
   "outputs": [
    {
     "data": {
      "text/plain": [
       "<tf.Tensor 'inputs/Placeholder_2:0' shape=(1, 240, 320, 3) dtype=float32>"
      ]
     },
     "execution_count": 80,
     "metadata": {},
     "output_type": "execute_result"
    }
   ],
   "source": [
    "correct"
   ]
  },
  {
   "cell_type": "code",
   "execution_count": null,
   "metadata": {
    "collapsed": true
   },
   "outputs": [],
   "source": []
  }
 ],
 "metadata": {
  "kernelspec": {
   "display_name": "Python [conda root]",
   "language": "python",
   "name": "conda-root-py"
  },
  "language_info": {
   "codemirror_mode": {
    "name": "ipython",
    "version": 3
   },
   "file_extension": ".py",
   "mimetype": "text/x-python",
   "name": "python",
   "nbconvert_exporter": "python",
   "pygments_lexer": "ipython3",
   "version": "3.5.2"
  }
 },
 "nbformat": 4,
 "nbformat_minor": 0
}
